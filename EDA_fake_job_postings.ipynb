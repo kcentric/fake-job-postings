{
  "nbformat": 4,
  "nbformat_minor": 0,
  "metadata": {
    "colab": {
      "provenance": []
    },
    "kernelspec": {
      "name": "python3",
      "display_name": "Python 3"
    },
    "language_info": {
      "name": "python"
    }
  },
  "cells": [
    {
      "cell_type": "code",
      "execution_count": null,
      "metadata": {
        "id": "KTPUvKmUMmem",
        "colab": {
          "base_uri": "https://localhost:8080/"
        },
        "outputId": "b5b34afb-84fc-4dd2-e2dc-f868c7510077"
      },
      "outputs": [
        {
          "output_type": "stream",
          "name": "stdout",
          "text": [
            "Mounted at /content/drive\n"
          ]
        }
      ],
      "source": [
        "import pandas as pd\n",
        "import numpy as np\n",
        "from matplotlib import pyplot as plt\n",
        "\n",
        "from google.colab import drive\n",
        "drive.mount('/content/drive')\n",
        "drive_dir = '/content/drive/Shareddrives/MATH 2327 3439 - Data/'"
      ]
    },
    {
      "cell_type": "markdown",
      "source": [
        "### Loading the Data"
      ],
      "metadata": {
        "id": "SiZih9ZiNCy5"
      }
    },
    {
      "cell_type": "code",
      "source": [
        "df = pd.read_csv(drive_dir + 'data/fake_job_postings.csv')"
      ],
      "metadata": {
        "id": "deXXGod4MvZG"
      },
      "execution_count": null,
      "outputs": []
    },
    {
      "cell_type": "markdown",
      "source": [
        "### Looking into the Data"
      ],
      "metadata": {
        "id": "D85GO_t8NLe2"
      }
    },
    {
      "cell_type": "code",
      "source": [
        "df.head()"
      ],
      "metadata": {
        "id": "M7dsOnLRNRDq",
        "colab": {
          "base_uri": "https://localhost:8080/",
          "height": 556
        },
        "outputId": "afdf46d0-5713-428b-a6f3-6b4c661826b0"
      },
      "execution_count": null,
      "outputs": [
        {
          "output_type": "execute_result",
          "data": {
            "text/plain": [
              "   job_id                                      title            location  \\\n",
              "0       1                           Marketing Intern    US, NY, New York   \n",
              "1       2  Customer Service - Cloud Video Production      NZ, , Auckland   \n",
              "2       3    Commissioning Machinery Assistant (CMA)       US, IA, Wever   \n",
              "3       4          Account Executive - Washington DC  US, DC, Washington   \n",
              "4       5                        Bill Review Manager  US, FL, Fort Worth   \n",
              "\n",
              "  department salary_range                                    company_profile  \\\n",
              "0  Marketing          NaN  We're Food52, and we've created a groundbreaki...   \n",
              "1    Success          NaN  90 Seconds, the worlds Cloud Video Production ...   \n",
              "2        NaN          NaN  Valor Services provides Workforce Solutions th...   \n",
              "3      Sales          NaN  Our passion for improving quality of life thro...   \n",
              "4        NaN          NaN  SpotSource Solutions LLC is a Global Human Cap...   \n",
              "\n",
              "                                         description  \\\n",
              "0  Food52, a fast-growing, James Beard Award-winn...   \n",
              "1  Organised - Focused - Vibrant - Awesome!Do you...   \n",
              "2  Our client, located in Houston, is actively se...   \n",
              "3  THE COMPANY: ESRI – Environmental Systems Rese...   \n",
              "4  JOB TITLE: Itemization Review ManagerLOCATION:...   \n",
              "\n",
              "                                        requirements  \\\n",
              "0  Experience with content management systems a m...   \n",
              "1  What we expect from you:Your key responsibilit...   \n",
              "2  Implement pre-commissioning and commissioning ...   \n",
              "3  EDUCATION: Bachelor’s or Master’s in GIS, busi...   \n",
              "4  QUALIFICATIONS:RN license in the State of Texa...   \n",
              "\n",
              "                                            benefits  telecommuting  \\\n",
              "0                                                NaN              0   \n",
              "1  What you will get from usThrough being part of...              0   \n",
              "2                                                NaN              0   \n",
              "3  Our culture is anything but corporate—we have ...              0   \n",
              "4                              Full Benefits Offered              0   \n",
              "\n",
              "   has_company_logo  has_questions employment_type required_experience  \\\n",
              "0                 1              0           Other          Internship   \n",
              "1                 1              0       Full-time      Not Applicable   \n",
              "2                 1              0             NaN                 NaN   \n",
              "3                 1              0       Full-time    Mid-Senior level   \n",
              "4                 1              1       Full-time    Mid-Senior level   \n",
              "\n",
              "  required_education                   industry              function  \\\n",
              "0                NaN                        NaN             Marketing   \n",
              "1                NaN  Marketing and Advertising      Customer Service   \n",
              "2                NaN                        NaN                   NaN   \n",
              "3  Bachelor's Degree          Computer Software                 Sales   \n",
              "4  Bachelor's Degree     Hospital & Health Care  Health Care Provider   \n",
              "\n",
              "   fraudulent  \n",
              "0           0  \n",
              "1           0  \n",
              "2           0  \n",
              "3           0  \n",
              "4           0  "
            ],
            "text/html": [
              "\n",
              "  <div id=\"df-bc17d574-e0ac-42df-b317-ad421c190ab4\" class=\"colab-df-container\">\n",
              "    <div>\n",
              "<style scoped>\n",
              "    .dataframe tbody tr th:only-of-type {\n",
              "        vertical-align: middle;\n",
              "    }\n",
              "\n",
              "    .dataframe tbody tr th {\n",
              "        vertical-align: top;\n",
              "    }\n",
              "\n",
              "    .dataframe thead th {\n",
              "        text-align: right;\n",
              "    }\n",
              "</style>\n",
              "<table border=\"1\" class=\"dataframe\">\n",
              "  <thead>\n",
              "    <tr style=\"text-align: right;\">\n",
              "      <th></th>\n",
              "      <th>job_id</th>\n",
              "      <th>title</th>\n",
              "      <th>location</th>\n",
              "      <th>department</th>\n",
              "      <th>salary_range</th>\n",
              "      <th>company_profile</th>\n",
              "      <th>description</th>\n",
              "      <th>requirements</th>\n",
              "      <th>benefits</th>\n",
              "      <th>telecommuting</th>\n",
              "      <th>has_company_logo</th>\n",
              "      <th>has_questions</th>\n",
              "      <th>employment_type</th>\n",
              "      <th>required_experience</th>\n",
              "      <th>required_education</th>\n",
              "      <th>industry</th>\n",
              "      <th>function</th>\n",
              "      <th>fraudulent</th>\n",
              "    </tr>\n",
              "  </thead>\n",
              "  <tbody>\n",
              "    <tr>\n",
              "      <th>0</th>\n",
              "      <td>1</td>\n",
              "      <td>Marketing Intern</td>\n",
              "      <td>US, NY, New York</td>\n",
              "      <td>Marketing</td>\n",
              "      <td>NaN</td>\n",
              "      <td>We're Food52, and we've created a groundbreaki...</td>\n",
              "      <td>Food52, a fast-growing, James Beard Award-winn...</td>\n",
              "      <td>Experience with content management systems a m...</td>\n",
              "      <td>NaN</td>\n",
              "      <td>0</td>\n",
              "      <td>1</td>\n",
              "      <td>0</td>\n",
              "      <td>Other</td>\n",
              "      <td>Internship</td>\n",
              "      <td>NaN</td>\n",
              "      <td>NaN</td>\n",
              "      <td>Marketing</td>\n",
              "      <td>0</td>\n",
              "    </tr>\n",
              "    <tr>\n",
              "      <th>1</th>\n",
              "      <td>2</td>\n",
              "      <td>Customer Service - Cloud Video Production</td>\n",
              "      <td>NZ, , Auckland</td>\n",
              "      <td>Success</td>\n",
              "      <td>NaN</td>\n",
              "      <td>90 Seconds, the worlds Cloud Video Production ...</td>\n",
              "      <td>Organised - Focused - Vibrant - Awesome!Do you...</td>\n",
              "      <td>What we expect from you:Your key responsibilit...</td>\n",
              "      <td>What you will get from usThrough being part of...</td>\n",
              "      <td>0</td>\n",
              "      <td>1</td>\n",
              "      <td>0</td>\n",
              "      <td>Full-time</td>\n",
              "      <td>Not Applicable</td>\n",
              "      <td>NaN</td>\n",
              "      <td>Marketing and Advertising</td>\n",
              "      <td>Customer Service</td>\n",
              "      <td>0</td>\n",
              "    </tr>\n",
              "    <tr>\n",
              "      <th>2</th>\n",
              "      <td>3</td>\n",
              "      <td>Commissioning Machinery Assistant (CMA)</td>\n",
              "      <td>US, IA, Wever</td>\n",
              "      <td>NaN</td>\n",
              "      <td>NaN</td>\n",
              "      <td>Valor Services provides Workforce Solutions th...</td>\n",
              "      <td>Our client, located in Houston, is actively se...</td>\n",
              "      <td>Implement pre-commissioning and commissioning ...</td>\n",
              "      <td>NaN</td>\n",
              "      <td>0</td>\n",
              "      <td>1</td>\n",
              "      <td>0</td>\n",
              "      <td>NaN</td>\n",
              "      <td>NaN</td>\n",
              "      <td>NaN</td>\n",
              "      <td>NaN</td>\n",
              "      <td>NaN</td>\n",
              "      <td>0</td>\n",
              "    </tr>\n",
              "    <tr>\n",
              "      <th>3</th>\n",
              "      <td>4</td>\n",
              "      <td>Account Executive - Washington DC</td>\n",
              "      <td>US, DC, Washington</td>\n",
              "      <td>Sales</td>\n",
              "      <td>NaN</td>\n",
              "      <td>Our passion for improving quality of life thro...</td>\n",
              "      <td>THE COMPANY: ESRI – Environmental Systems Rese...</td>\n",
              "      <td>EDUCATION: Bachelor’s or Master’s in GIS, busi...</td>\n",
              "      <td>Our culture is anything but corporate—we have ...</td>\n",
              "      <td>0</td>\n",
              "      <td>1</td>\n",
              "      <td>0</td>\n",
              "      <td>Full-time</td>\n",
              "      <td>Mid-Senior level</td>\n",
              "      <td>Bachelor's Degree</td>\n",
              "      <td>Computer Software</td>\n",
              "      <td>Sales</td>\n",
              "      <td>0</td>\n",
              "    </tr>\n",
              "    <tr>\n",
              "      <th>4</th>\n",
              "      <td>5</td>\n",
              "      <td>Bill Review Manager</td>\n",
              "      <td>US, FL, Fort Worth</td>\n",
              "      <td>NaN</td>\n",
              "      <td>NaN</td>\n",
              "      <td>SpotSource Solutions LLC is a Global Human Cap...</td>\n",
              "      <td>JOB TITLE: Itemization Review ManagerLOCATION:...</td>\n",
              "      <td>QUALIFICATIONS:RN license in the State of Texa...</td>\n",
              "      <td>Full Benefits Offered</td>\n",
              "      <td>0</td>\n",
              "      <td>1</td>\n",
              "      <td>1</td>\n",
              "      <td>Full-time</td>\n",
              "      <td>Mid-Senior level</td>\n",
              "      <td>Bachelor's Degree</td>\n",
              "      <td>Hospital &amp; Health Care</td>\n",
              "      <td>Health Care Provider</td>\n",
              "      <td>0</td>\n",
              "    </tr>\n",
              "  </tbody>\n",
              "</table>\n",
              "</div>\n",
              "    <div class=\"colab-df-buttons\">\n",
              "\n",
              "  <div class=\"colab-df-container\">\n",
              "    <button class=\"colab-df-convert\" onclick=\"convertToInteractive('df-bc17d574-e0ac-42df-b317-ad421c190ab4')\"\n",
              "            title=\"Convert this dataframe to an interactive table.\"\n",
              "            style=\"display:none;\">\n",
              "\n",
              "  <svg xmlns=\"http://www.w3.org/2000/svg\" height=\"24px\" viewBox=\"0 -960 960 960\">\n",
              "    <path d=\"M120-120v-720h720v720H120Zm60-500h600v-160H180v160Zm220 220h160v-160H400v160Zm0 220h160v-160H400v160ZM180-400h160v-160H180v160Zm440 0h160v-160H620v160ZM180-180h160v-160H180v160Zm440 0h160v-160H620v160Z\"/>\n",
              "  </svg>\n",
              "    </button>\n",
              "\n",
              "  <style>\n",
              "    .colab-df-container {\n",
              "      display:flex;\n",
              "      gap: 12px;\n",
              "    }\n",
              "\n",
              "    .colab-df-convert {\n",
              "      background-color: #E8F0FE;\n",
              "      border: none;\n",
              "      border-radius: 50%;\n",
              "      cursor: pointer;\n",
              "      display: none;\n",
              "      fill: #1967D2;\n",
              "      height: 32px;\n",
              "      padding: 0 0 0 0;\n",
              "      width: 32px;\n",
              "    }\n",
              "\n",
              "    .colab-df-convert:hover {\n",
              "      background-color: #E2EBFA;\n",
              "      box-shadow: 0px 1px 2px rgba(60, 64, 67, 0.3), 0px 1px 3px 1px rgba(60, 64, 67, 0.15);\n",
              "      fill: #174EA6;\n",
              "    }\n",
              "\n",
              "    .colab-df-buttons div {\n",
              "      margin-bottom: 4px;\n",
              "    }\n",
              "\n",
              "    [theme=dark] .colab-df-convert {\n",
              "      background-color: #3B4455;\n",
              "      fill: #D2E3FC;\n",
              "    }\n",
              "\n",
              "    [theme=dark] .colab-df-convert:hover {\n",
              "      background-color: #434B5C;\n",
              "      box-shadow: 0px 1px 3px 1px rgba(0, 0, 0, 0.15);\n",
              "      filter: drop-shadow(0px 1px 2px rgba(0, 0, 0, 0.3));\n",
              "      fill: #FFFFFF;\n",
              "    }\n",
              "  </style>\n",
              "\n",
              "    <script>\n",
              "      const buttonEl =\n",
              "        document.querySelector('#df-bc17d574-e0ac-42df-b317-ad421c190ab4 button.colab-df-convert');\n",
              "      buttonEl.style.display =\n",
              "        google.colab.kernel.accessAllowed ? 'block' : 'none';\n",
              "\n",
              "      async function convertToInteractive(key) {\n",
              "        const element = document.querySelector('#df-bc17d574-e0ac-42df-b317-ad421c190ab4');\n",
              "        const dataTable =\n",
              "          await google.colab.kernel.invokeFunction('convertToInteractive',\n",
              "                                                    [key], {});\n",
              "        if (!dataTable) return;\n",
              "\n",
              "        const docLinkHtml = 'Like what you see? Visit the ' +\n",
              "          '<a target=\"_blank\" href=https://colab.research.google.com/notebooks/data_table.ipynb>data table notebook</a>'\n",
              "          + ' to learn more about interactive tables.';\n",
              "        element.innerHTML = '';\n",
              "        dataTable['output_type'] = 'display_data';\n",
              "        await google.colab.output.renderOutput(dataTable, element);\n",
              "        const docLink = document.createElement('div');\n",
              "        docLink.innerHTML = docLinkHtml;\n",
              "        element.appendChild(docLink);\n",
              "      }\n",
              "    </script>\n",
              "  </div>\n",
              "\n",
              "\n",
              "<div id=\"df-61640f67-fee6-4fc0-9970-31902ffc5f30\">\n",
              "  <button class=\"colab-df-quickchart\" onclick=\"quickchart('df-61640f67-fee6-4fc0-9970-31902ffc5f30')\"\n",
              "            title=\"Suggest charts\"\n",
              "            style=\"display:none;\">\n",
              "\n",
              "<svg xmlns=\"http://www.w3.org/2000/svg\" height=\"24px\"viewBox=\"0 0 24 24\"\n",
              "     width=\"24px\">\n",
              "    <g>\n",
              "        <path d=\"M19 3H5c-1.1 0-2 .9-2 2v14c0 1.1.9 2 2 2h14c1.1 0 2-.9 2-2V5c0-1.1-.9-2-2-2zM9 17H7v-7h2v7zm4 0h-2V7h2v10zm4 0h-2v-4h2v4z\"/>\n",
              "    </g>\n",
              "</svg>\n",
              "  </button>\n",
              "\n",
              "<style>\n",
              "  .colab-df-quickchart {\n",
              "      --bg-color: #E8F0FE;\n",
              "      --fill-color: #1967D2;\n",
              "      --hover-bg-color: #E2EBFA;\n",
              "      --hover-fill-color: #174EA6;\n",
              "      --disabled-fill-color: #AAA;\n",
              "      --disabled-bg-color: #DDD;\n",
              "  }\n",
              "\n",
              "  [theme=dark] .colab-df-quickchart {\n",
              "      --bg-color: #3B4455;\n",
              "      --fill-color: #D2E3FC;\n",
              "      --hover-bg-color: #434B5C;\n",
              "      --hover-fill-color: #FFFFFF;\n",
              "      --disabled-bg-color: #3B4455;\n",
              "      --disabled-fill-color: #666;\n",
              "  }\n",
              "\n",
              "  .colab-df-quickchart {\n",
              "    background-color: var(--bg-color);\n",
              "    border: none;\n",
              "    border-radius: 50%;\n",
              "    cursor: pointer;\n",
              "    display: none;\n",
              "    fill: var(--fill-color);\n",
              "    height: 32px;\n",
              "    padding: 0;\n",
              "    width: 32px;\n",
              "  }\n",
              "\n",
              "  .colab-df-quickchart:hover {\n",
              "    background-color: var(--hover-bg-color);\n",
              "    box-shadow: 0 1px 2px rgba(60, 64, 67, 0.3), 0 1px 3px 1px rgba(60, 64, 67, 0.15);\n",
              "    fill: var(--button-hover-fill-color);\n",
              "  }\n",
              "\n",
              "  .colab-df-quickchart-complete:disabled,\n",
              "  .colab-df-quickchart-complete:disabled:hover {\n",
              "    background-color: var(--disabled-bg-color);\n",
              "    fill: var(--disabled-fill-color);\n",
              "    box-shadow: none;\n",
              "  }\n",
              "\n",
              "  .colab-df-spinner {\n",
              "    border: 2px solid var(--fill-color);\n",
              "    border-color: transparent;\n",
              "    border-bottom-color: var(--fill-color);\n",
              "    animation:\n",
              "      spin 1s steps(1) infinite;\n",
              "  }\n",
              "\n",
              "  @keyframes spin {\n",
              "    0% {\n",
              "      border-color: transparent;\n",
              "      border-bottom-color: var(--fill-color);\n",
              "      border-left-color: var(--fill-color);\n",
              "    }\n",
              "    20% {\n",
              "      border-color: transparent;\n",
              "      border-left-color: var(--fill-color);\n",
              "      border-top-color: var(--fill-color);\n",
              "    }\n",
              "    30% {\n",
              "      border-color: transparent;\n",
              "      border-left-color: var(--fill-color);\n",
              "      border-top-color: var(--fill-color);\n",
              "      border-right-color: var(--fill-color);\n",
              "    }\n",
              "    40% {\n",
              "      border-color: transparent;\n",
              "      border-right-color: var(--fill-color);\n",
              "      border-top-color: var(--fill-color);\n",
              "    }\n",
              "    60% {\n",
              "      border-color: transparent;\n",
              "      border-right-color: var(--fill-color);\n",
              "    }\n",
              "    80% {\n",
              "      border-color: transparent;\n",
              "      border-right-color: var(--fill-color);\n",
              "      border-bottom-color: var(--fill-color);\n",
              "    }\n",
              "    90% {\n",
              "      border-color: transparent;\n",
              "      border-bottom-color: var(--fill-color);\n",
              "    }\n",
              "  }\n",
              "</style>\n",
              "\n",
              "  <script>\n",
              "    async function quickchart(key) {\n",
              "      const quickchartButtonEl =\n",
              "        document.querySelector('#' + key + ' button');\n",
              "      quickchartButtonEl.disabled = true;  // To prevent multiple clicks.\n",
              "      quickchartButtonEl.classList.add('colab-df-spinner');\n",
              "      try {\n",
              "        const charts = await google.colab.kernel.invokeFunction(\n",
              "            'suggestCharts', [key], {});\n",
              "      } catch (error) {\n",
              "        console.error('Error during call to suggestCharts:', error);\n",
              "      }\n",
              "      quickchartButtonEl.classList.remove('colab-df-spinner');\n",
              "      quickchartButtonEl.classList.add('colab-df-quickchart-complete');\n",
              "    }\n",
              "    (() => {\n",
              "      let quickchartButtonEl =\n",
              "        document.querySelector('#df-61640f67-fee6-4fc0-9970-31902ffc5f30 button');\n",
              "      quickchartButtonEl.style.display =\n",
              "        google.colab.kernel.accessAllowed ? 'block' : 'none';\n",
              "    })();\n",
              "  </script>\n",
              "</div>\n",
              "    </div>\n",
              "  </div>\n"
            ],
            "application/vnd.google.colaboratory.intrinsic+json": {
              "type": "dataframe",
              "variable_name": "df",
              "summary": "{\n  \"name\": \"df\",\n  \"rows\": 17880,\n  \"fields\": [\n    {\n      \"column\": \"job_id\",\n      \"properties\": {\n        \"dtype\": \"number\",\n        \"std\": 5161,\n        \"min\": 1,\n        \"max\": 17880,\n        \"num_unique_values\": 17880,\n        \"samples\": [\n          4709,\n          11080,\n          12358\n        ],\n        \"semantic_type\": \"\",\n        \"description\": \"\"\n      }\n    },\n    {\n      \"column\": \"title\",\n      \"properties\": {\n        \"dtype\": \"string\",\n        \"num_unique_values\": 11231,\n        \"samples\": [\n          \"Environmental Lab Technician\",\n          \"Junior Designer\",\n          \"Case Handler\"\n        ],\n        \"semantic_type\": \"\",\n        \"description\": \"\"\n      }\n    },\n    {\n      \"column\": \"location\",\n      \"properties\": {\n        \"dtype\": \"category\",\n        \"num_unique_values\": 3105,\n        \"samples\": [\n          \"US, VA, Arlington\",\n          \"US, AL, Dothan\",\n          \"US, CA, Long Beach\"\n        ],\n        \"semantic_type\": \"\",\n        \"description\": \"\"\n      }\n    },\n    {\n      \"column\": \"department\",\n      \"properties\": {\n        \"dtype\": \"category\",\n        \"num_unique_values\": 1337,\n        \"samples\": [\n          \"Finance team\",\n          \"Product Ops\",\n          \"Engineering - Hardware\"\n        ],\n        \"semantic_type\": \"\",\n        \"description\": \"\"\n      }\n    },\n    {\n      \"column\": \"salary_range\",\n      \"properties\": {\n        \"dtype\": \"category\",\n        \"num_unique_values\": 874,\n        \"samples\": [\n          \"60000-130000\",\n          \"30000-450000\",\n          \"120000-130000\"\n        ],\n        \"semantic_type\": \"\",\n        \"description\": \"\"\n      }\n    },\n    {\n      \"column\": \"company_profile\",\n      \"properties\": {\n        \"dtype\": \"category\",\n        \"num_unique_values\": 1709,\n        \"samples\": [\n          \"WHY WORK AT IMAGINET\\u00a0\\u201cWorking at Imaginet is great! I get to work with leading edge technology as well as the some of the best developers, project managers and management in the industry.\\u201d\\u00a0-- Evan Bosscher, Application Developer at Imaginet\\u201cImaginet enables me to use the latest tools and platforms to solve complex and challenging problems and encourages me to continue growing in my application development career.\\u00a0 My peers at Imaginet are some of the best and brightest developers in the country.\\u201d\\u00a0-- Tyler Doerksen, Cloud Application Specialist at Imaginet\\u00a0At Imaginet, our clients look to us to help them with their toughest projects using the newest technologies.\\u00a0 We are the technology partner who tames their chaos, who turns disruption into steady state and makes the unknown more predictable.\\u00a0 We are at the forefront of emerging technology trends, new product releases and shifts in the software development industry.\\u00a0 We are constantly learning about, and experimenting with the latest and greatest software platforms, controls, processes and design patterns.\\u00a0Our current projects include:\\u2022\\u00a0\\u00a0\\u00a0\\u00a0\\u00a0\\u00a0\\u00a0\\u00a0\\u00a0\\u00a0\\u00a0\\u00a0 Enterprise Mobility \\u2022\\u00a0\\u00a0\\u00a0\\u00a0\\u00a0\\u00a0\\u00a0\\u00a0\\u00a0\\u00a0\\u00a0\\u00a0 Dev Ops \\u2022\\u00a0\\u00a0\\u00a0\\u00a0\\u00a0\\u00a0\\u00a0\\u00a0\\u00a0\\u00a0\\u00a0\\u00a0 Business Intelligence \\u2022\\u00a0\\u00a0\\u00a0\\u00a0\\u00a0\\u00a0\\u00a0\\u00a0\\u00a0\\u00a0\\u00a0\\u00a0 Scrum/Lean/Kanban \\u2022\\u00a0\\u00a0\\u00a0\\u00a0\\u00a0\\u00a0\\u00a0\\u00a0\\u00a0\\u00a0\\u00a0\\u00a0 Enterprise Content ManagementIf you are passionate about being part of a leading edge software development team with a commitment to continuous learning, we want you as part of the Imaginet team.BalancePeople lead dynamic lives and not all personal commitments lie outside of 9-5.\\u00a0 At Imaginet, we recognize that our employees need the flexibility to support their families, hobbies, charities, and other interests to stay motivated and fulfilled.\\u00a0 Many employees work partially from home, start/stop work at different times or telecommute from a home office.\\u00a0 At Imaginet, it is passion and performance that counts, not which hours in the day you sit in the office.Personal DevelopmentWe want the best and brightest minds working with us.\\u00a0 Our employees are recognized thought leaders in software development and we encourage continued learning.\\u00a0Imaginet employees who wish to write exams are subsidized upon the completion of technical certifications and can receive raises for exemplary results.\\u00a0 We fund and encourage our employee\\u2019s participation at conferences with special interest in those who can speak on niche software development topics and practices. Imaginet has more Microsoft MVPs on staff per capita than any other Microsoft partner and we encourage employees to attend the MVP summits at Microsoft in Redmond.\\u00a0 Imaginet employees are very active in the local software community and lead .NET user groups in many of our employees residing cities.\\u00a0 We also encourage our employees to present internally via \\u201clunch and learns\\u201d on topics of interest.Compensation\\u00a0\\u00a0\\u00a0\\u00a0\\u00a0\\u00a0\\u00a0\\u00a0\\u00a0\\u00a0\\u00a0\\u00a0\\u00a0\\u00a0\\u00a0\\u00a0\\u00a0\\u00a0\\u00a0\\u00a0\\u00a0\\u00a0\\u00a0\\u00a0\\u00a0\\u00a0\\u00a0\\u00a0\\u00a0\\u00a0\\u00a0\\u00a0\\u00a0\\u00a0\\u00a0\\u00a0\\u00a0\\u00a0\\u00a0\\u00a0\\u00a0\\u00a0\\u00a0\\u00a0\\u00a0\\u00a0\\u00a0\\u00a0\\u00a0\\u00a0\\u00a0\\u00a0Even though Imaginet is a great place to work, it\\u2019s still a job and you want to be paid.\\u00a0 We pride ourselves on our \\u2018promote from within\\u2019 philosophy and provide competitive compensations. We provide excellent health care benefits including eye, dental and disability.\\u00a0 We also offer overtime to our employees that want to work extra hours on select projects.Recognized LeadersImaginet is globally recognized within the software industry as a premier consulting and software development organization.\\u00a0 We are a multiple Microsoft Gold Partner, Telerik Gold Partner, #URL_eb33f3e87ac1203366e8701171cb1ef8a42857099f85613b3b7f029ffb751723# Partner and a founding member of the Lean Kanban University.\\u00a0\\u00a0 We are invited to speak at conferences around the world and have published numerous books under Microsoft Press.\\u00a0 In addition, we have many Microsoft MVPs, Virtual Technical Specialists (VTSs) and Regional Directors on staff.\\u00a0Our experience spans over 2,400 engagements, 1,100 clients, and over 17 years.\\u00a0 We are the world leaders in ALM on the Microsoft platform and 1st Ever Winner of the Global Microsoft Partner of the Year Award in ALM.\",\n          \"Bluesmart is an early stage startup that is re-defining the way that we travel. We are currently in stealth mode, but we are planning to unveil our first product to the world very soon! We are a group of seasoned entrepreneurs with experience building companies in retail, travel, mobile applications, and product design. We are highly international, with our team splitting time between New York and Buenos Aires. Join us, and we guarantee that you will learn a lot, meet interesting people, and have fun at the same time.\",\n          \"Softomotive Ltd is a Software Development company located in Athens, Greece. We specialize in Process Automation software and our customers range from individual users to large Fortune500 companies all over the world.\"\n        ],\n        \"semantic_type\": \"\",\n        \"description\": \"\"\n      }\n    },\n    {\n      \"column\": \"description\",\n      \"properties\": {\n        \"dtype\": \"string\",\n        \"num_unique_values\": 14801,\n        \"samples\": [\n          \"EvergiveEvergive was born from a simple desire to donate in search of an easy way to transact.From these simple roots, Evergive grew into a transformative platform that improves and enhances the entire fundraising ecosystem. Our goal is to help nonprofits be more successful in their mission by providing technology to support the donor lifecycle and to provide a better fundraising experience. Partners think of us as a mobile presence for their organization.Evergive is designed to keep individuals connected to the causes and organizations they support. Whether you support a church, a school, a community group or a friend's cause - Evergive simplifies and enhances giving.We are located near Caltrain in Palo Alto, CA and backed by some of Silicon Valley's top investors.Engagement Marketing ManagerThe right candidate for this position is a smart, outside-the-box thinker who is ready to create and implement marketing strategies and excited to analyze engagement to make smarter marketing decisions. We're looking for someone creative and independent who doesn't sleep until goals are accomplished.\\u00a0We love candidates who have overcome adversity and created something out of nothing.\\u00a0This is a position with a lot of potential for growth and ownership, helping define our brand, identity and strategy at our partner organizations.\\u00a0On a daily basis, you will...* Give updates on engagement per partner and progress against our goals* Keep in touch with the partners through calls and visits to make sure their program is on track* Construct creative marketing campaigns to increase awareness of the Evergive platform within our partner communities* Run user engagement at Evergive, constructing and testing the email notification system for donors* Writing the partner adoption playbook, ensuring that we track and measure how we launched a new account and never repeat something that doesn't work\",\n          \"To work on analytics modelling using desktop and programming tools (R, SPSS) on business data in a financial investment institution.\",\n          \"We\\u2019re hiring a talented full time in-house web developer to join our team at The Mobile Majority.Responsibilities include:Developing stunning web applications by writing pixel perfect code.Efficiently communicating current tasks, issues, and recommendations on front end development tasks.Effectively gathering user input and bug reports an push updates accordingly.The Mobile Majority is a rapidly growing ad tech startup based in Santa Monica,\\u00a0CA, with offices in New York City, San Francisco, Chicago, Sao Paolo and Ho Chi\\u00a0Min City. We have been honored as the 'Best Creative Technology' by the American\\u00a0Association of Advertising Agencies and won 'Best Series A' By the Los Angeles\\u00a0Venture Association.\\u00a0We have raised $21M, and do business with some of the biggest brands in the world (Chase Bank, Unilever, Paramount, Warner Brothers, State Farm Insurance, Hershey\\u2019s, Clorox and Time Warner Cable, to name a few).The Mobile Majority has a culture of engineering focused, data-driven decision-making, and demands business intelligence that is timely, accurate, and actionable. \\u00a0As a key member of a small and versatile team, you will be responsible to design, test, deploy and maintain software solutions.\"\n        ],\n        \"semantic_type\": \"\",\n        \"description\": \"\"\n      }\n    },\n    {\n      \"column\": \"requirements\",\n      \"properties\": {\n        \"dtype\": \"string\",\n        \"num_unique_values\": 11968,\n        \"samples\": [\n          \"Minimum LPN (Licensed Practical Nurse) current license requiredMinimum\\u00a05 years\\u2019 experience as an LPNSolid computer skills (Microsoft applications) a MUSTMust be detail orientedKnowledge of MedWatch REQUIREDKnowledge of prescription medication, dietary supplements and common side effects of bothKnowledge of medical terminologyDemonstrated experience with Nutrition, elder care and quality improvement preferredStrong communication skills to communicate information verbally and in writing so that others can understandCustomer service skillsAbility to file and retrieve informationAbility to keep information confidentialAbility to interface with multiple levels of leadershipAbility to work independentlyAbility to multitask and work independentlyAbility to sit for long periods of timeAbility to lift 5 pounds\",\n          \"Significant experience with direct recruiting processes (not in a staffing firm), interview methods, and reference-checking.Organized and detail oriented but capable of prioritizing actions based on known objectives in any project.Self-starter capable of demonstrating the resourcefulness needed in a startup environment where objectives will change regularly.A good communicator capable of writing and speaking concisely and professionally with colleagues and external stakeholders.Experience running a small business or an office in a B2B business service environment desirable.Good skills using web-based applications, Google Apps, Google Docs, MS Word, MS Excel, and capable of quickly learning new tools.Comfortable working in a remote environment where colleagues may be located in multiple locations nationally.\",\n          \"Associates-level of experience. \\u00a0Company Overview:Our international client specializes in\\u00a0hi-tech transactional and technology services, consulting, systems integration, and managed services.\"\n        ],\n        \"semantic_type\": \"\",\n        \"description\": \"\"\n      }\n    },\n    {\n      \"column\": \"benefits\",\n      \"properties\": {\n        \"dtype\": \"category\",\n        \"num_unique_values\": 6205,\n        \"samples\": [\n          \"Attractive pay packageMobile allowanceTransportation allowancePersonal loansFlexible hoursMedical insuranceSocial insurancePaid vacationsSocial activitiesTraining &amp; developmentTuition assistanceProfit ShareCequens Team \\u00a0 \\u00a0 \\u00a0 \\u00a0 \\u00a0 \\u00a0 \\u00a0\\u00a0\\u00a0\\u00a0\\u00a0\\u00a0\\u00a0\\u00a0\\u00a0\\u00a0\\u00a0\\u00a0\\u00a0\\u00a0\\u00a0\\u00a0\\u00a0\\u00a0\\u00a0\\u00a0\\u00a0\\u00a0\\u00a0\\u00a0\\u00a0\\u00a0\\u00a0\\u00a0\\u00a0\\u00a0\\u00a0\\u00a0\\u00a0\\u00a0\\u00a0\\u00a0\\u00a0\\u00a0\\u00a0\\u00a0\\u00a0\\u00a0We believe in choosing the best\\u00a0calibers and assisting them in\\u00a0continuing to develop their\\u00a0potential and qualifications. A\\u00a0good working environment, the\\u00a0right motivation and great\\u00a0teamwork is the way we use to\\u00a0successfully achieve our goals.About usWe are\\u00a0a\\u00a0leading technology corporation that specializes in mobile messaging services and solutions. Serving hundreds of renowned customers in more than 40 countries worldwide, please visit our website\\u00a0#URL_414f2c0c30d37b5a8db0880b6d51f6b9b08fc03a22553f0d0a568b2687dc8e3e#\\u00a0to know more about us. \\u00a0\",\n          \"Competative Pay,Vacation,Sick Leave,Health Insurance\",\n          \"Health and Dental Insurance through UHC50% of premium paid by companyVision Plan through Advantica50% of premium paid by companyShort Term Disability through UNUM50% of premium paid by company.$25,000 A&amp;D life insurance paid 100% by the company.401K with company matching 100% up to the first 3%, and 50% on the 4% -5% contributions.\\u00a0 Immediately vested upon eligibilityEight paid holidays.\\u00a0 1 Floating holiday80 hours of PTO accrued during first year of employment.Flexible environmentFree drinks and snacksEmployee lounge with video gamesCasual dress (jeans)Plenty of fun activities\"\n        ],\n        \"semantic_type\": \"\",\n        \"description\": \"\"\n      }\n    },\n    {\n      \"column\": \"telecommuting\",\n      \"properties\": {\n        \"dtype\": \"number\",\n        \"std\": 0,\n        \"min\": 0,\n        \"max\": 1,\n        \"num_unique_values\": 2,\n        \"samples\": [\n          1,\n          0\n        ],\n        \"semantic_type\": \"\",\n        \"description\": \"\"\n      }\n    },\n    {\n      \"column\": \"has_company_logo\",\n      \"properties\": {\n        \"dtype\": \"number\",\n        \"std\": 0,\n        \"min\": 0,\n        \"max\": 1,\n        \"num_unique_values\": 2,\n        \"samples\": [\n          0,\n          1\n        ],\n        \"semantic_type\": \"\",\n        \"description\": \"\"\n      }\n    },\n    {\n      \"column\": \"has_questions\",\n      \"properties\": {\n        \"dtype\": \"number\",\n        \"std\": 0,\n        \"min\": 0,\n        \"max\": 1,\n        \"num_unique_values\": 2,\n        \"samples\": [\n          1,\n          0\n        ],\n        \"semantic_type\": \"\",\n        \"description\": \"\"\n      }\n    },\n    {\n      \"column\": \"employment_type\",\n      \"properties\": {\n        \"dtype\": \"category\",\n        \"num_unique_values\": 5,\n        \"samples\": [\n          \"Full-time\",\n          \"Temporary\"\n        ],\n        \"semantic_type\": \"\",\n        \"description\": \"\"\n      }\n    },\n    {\n      \"column\": \"required_experience\",\n      \"properties\": {\n        \"dtype\": \"category\",\n        \"num_unique_values\": 7,\n        \"samples\": [\n          \"Internship\",\n          \"Not Applicable\"\n        ],\n        \"semantic_type\": \"\",\n        \"description\": \"\"\n      }\n    },\n    {\n      \"column\": \"required_education\",\n      \"properties\": {\n        \"dtype\": \"category\",\n        \"num_unique_values\": 13,\n        \"samples\": [\n          \"Vocational - Degree\",\n          \"Doctorate\"\n        ],\n        \"semantic_type\": \"\",\n        \"description\": \"\"\n      }\n    },\n    {\n      \"column\": \"industry\",\n      \"properties\": {\n        \"dtype\": \"category\",\n        \"num_unique_values\": 131,\n        \"samples\": [\n          \"Publishing\",\n          \"Music\"\n        ],\n        \"semantic_type\": \"\",\n        \"description\": \"\"\n      }\n    },\n    {\n      \"column\": \"function\",\n      \"properties\": {\n        \"dtype\": \"category\",\n        \"num_unique_values\": 37,\n        \"samples\": [\n          \"Human Resources\",\n          \"Business Development\"\n        ],\n        \"semantic_type\": \"\",\n        \"description\": \"\"\n      }\n    },\n    {\n      \"column\": \"fraudulent\",\n      \"properties\": {\n        \"dtype\": \"number\",\n        \"std\": 0,\n        \"min\": 0,\n        \"max\": 1,\n        \"num_unique_values\": 2,\n        \"samples\": [\n          1,\n          0\n        ],\n        \"semantic_type\": \"\",\n        \"description\": \"\"\n      }\n    }\n  ]\n}"
            }
          },
          "metadata": {},
          "execution_count": 3
        }
      ]
    },
    {
      "cell_type": "code",
      "source": [
        "df.shape"
      ],
      "metadata": {
        "id": "dcBYmJT4NTGm",
        "colab": {
          "base_uri": "https://localhost:8080/"
        },
        "outputId": "bf4603fd-dbaf-4851-9814-4903dff21ca8"
      },
      "execution_count": null,
      "outputs": [
        {
          "output_type": "execute_result",
          "data": {
            "text/plain": [
              "(17880, 18)"
            ]
          },
          "metadata": {},
          "execution_count": 4
        }
      ]
    },
    {
      "cell_type": "code",
      "source": [
        "df.nunique()"
      ],
      "metadata": {
        "id": "_87zyChmNNv-",
        "colab": {
          "base_uri": "https://localhost:8080/"
        },
        "outputId": "cacaab18-1573-48fa-d72d-202998bba6e0"
      },
      "execution_count": null,
      "outputs": [
        {
          "output_type": "execute_result",
          "data": {
            "text/plain": [
              "job_id                 17880\n",
              "title                  11231\n",
              "location                3105\n",
              "department              1337\n",
              "salary_range             874\n",
              "company_profile         1709\n",
              "description            14801\n",
              "requirements           11968\n",
              "benefits                6205\n",
              "telecommuting              2\n",
              "has_company_logo           2\n",
              "has_questions              2\n",
              "employment_type            5\n",
              "required_experience        7\n",
              "required_education        13\n",
              "industry                 131\n",
              "function                  37\n",
              "fraudulent                 2\n",
              "dtype: int64"
            ]
          },
          "metadata": {},
          "execution_count": 5
        }
      ]
    },
    {
      "cell_type": "markdown",
      "source": [
        "### Look at how many rows of missing data are there in each column"
      ],
      "metadata": {
        "id": "5eEeX-WWNZul"
      }
    },
    {
      "cell_type": "code",
      "source": [
        "df.isna().sum()"
      ],
      "metadata": {
        "id": "pV_UyDUANVWh",
        "colab": {
          "base_uri": "https://localhost:8080/"
        },
        "outputId": "134cb47b-ee84-4935-8be3-79e6c0637d0a"
      },
      "execution_count": null,
      "outputs": [
        {
          "output_type": "execute_result",
          "data": {
            "text/plain": [
              "job_id                     0\n",
              "title                      0\n",
              "location                 346\n",
              "department             11547\n",
              "salary_range           15012\n",
              "company_profile         3308\n",
              "description                1\n",
              "requirements            2695\n",
              "benefits                7210\n",
              "telecommuting              0\n",
              "has_company_logo           0\n",
              "has_questions              0\n",
              "employment_type         3471\n",
              "required_experience     7050\n",
              "required_education      8105\n",
              "industry                4903\n",
              "function                6455\n",
              "fraudulent                 0\n",
              "dtype: int64"
            ]
          },
          "metadata": {},
          "execution_count": 6
        }
      ]
    },
    {
      "cell_type": "markdown",
      "source": [
        "Looking at the percentage of rows that have missing data for each column"
      ],
      "metadata": {
        "id": "V6_RqLYlNhkE"
      }
    },
    {
      "cell_type": "code",
      "source": [
        "df.isna().sum() / df.shape[0] * 100"
      ],
      "metadata": {
        "id": "5GrckKNYNWAg",
        "colab": {
          "base_uri": "https://localhost:8080/"
        },
        "outputId": "3ca12de4-672c-4b8f-b7d3-7071b7c57ddd"
      },
      "execution_count": null,
      "outputs": [
        {
          "output_type": "execute_result",
          "data": {
            "text/plain": [
              "job_id                  0.000000\n",
              "title                   0.000000\n",
              "location                1.935123\n",
              "department             64.580537\n",
              "salary_range           83.959732\n",
              "company_profile        18.501119\n",
              "description             0.005593\n",
              "requirements           15.072707\n",
              "benefits               40.324385\n",
              "telecommuting           0.000000\n",
              "has_company_logo        0.000000\n",
              "has_questions           0.000000\n",
              "employment_type        19.412752\n",
              "required_experience    39.429530\n",
              "required_education     45.329978\n",
              "industry               27.421700\n",
              "function               36.101790\n",
              "fraudulent              0.000000\n",
              "dtype: float64"
            ]
          },
          "metadata": {},
          "execution_count": 7
        }
      ]
    },
    {
      "cell_type": "markdown",
      "source": [
        "### Looking at patterns around missing data"
      ],
      "metadata": {
        "id": "KU_fxtNH1kmK"
      }
    },
    {
      "cell_type": "code",
      "source": [
        "fraudulent_df = df[df['fraudulent']==1]"
      ],
      "metadata": {
        "id": "v7W3emk31m9J"
      },
      "execution_count": null,
      "outputs": []
    },
    {
      "cell_type": "code",
      "source": [
        "fraudulent_df.isna().sum() / fraudulent_df.shape[0] *100"
      ],
      "metadata": {
        "colab": {
          "base_uri": "https://localhost:8080/"
        },
        "id": "MjWZ-X071pXM",
        "outputId": "e8ceb691-c92f-45e6-8281-6c75f33d3377"
      },
      "execution_count": null,
      "outputs": [
        {
          "output_type": "execute_result",
          "data": {
            "text/plain": [
              "job_id                  0.000000\n",
              "title                   0.000000\n",
              "location                2.193995\n",
              "department             61.316397\n",
              "salary_range           74.249423\n",
              "company_profile        67.782910\n",
              "description             0.115473\n",
              "requirements           17.782910\n",
              "benefits               42.032333\n",
              "telecommuting           0.000000\n",
              "has_company_logo        0.000000\n",
              "has_questions           0.000000\n",
              "employment_type        27.829099\n",
              "required_experience    50.230947\n",
              "required_education     52.078522\n",
              "industry               31.755196\n",
              "function               38.914550\n",
              "fraudulent              0.000000\n",
              "dtype: float64"
            ]
          },
          "metadata": {},
          "execution_count": 26
        }
      ]
    },
    {
      "cell_type": "code",
      "source": [
        "real_df = df[df['fraudulent']==0]"
      ],
      "metadata": {
        "id": "ws1uD5Bs1q3f"
      },
      "execution_count": null,
      "outputs": []
    },
    {
      "cell_type": "code",
      "source": [
        "real_df.isna().sum() / real_df.shape[0] *100"
      ],
      "metadata": {
        "colab": {
          "base_uri": "https://localhost:8080/"
        },
        "id": "DS8F79eD1sog",
        "outputId": "92b6372d-e5e3-4eed-a125-d3b7d9c6950b"
      },
      "execution_count": null,
      "outputs": [
        {
          "output_type": "execute_result",
          "data": {
            "text/plain": [
              "job_id                  0.000000\n",
              "title                   0.000000\n",
              "location                1.921947\n",
              "department             64.746679\n",
              "salary_range           84.453979\n",
              "company_profile        15.992712\n",
              "description             0.000000\n",
              "requirements           14.934760\n",
              "benefits               40.237452\n",
              "telecommuting           0.000000\n",
              "has_company_logo        0.000000\n",
              "has_questions           0.000000\n",
              "employment_type        18.984366\n",
              "required_experience    38.879746\n",
              "required_education     44.986482\n",
              "industry               27.201128\n",
              "function               35.958622\n",
              "fraudulent              0.000000\n",
              "dtype: float64"
            ]
          },
          "metadata": {},
          "execution_count": 28
        }
      ]
    },
    {
      "cell_type": "code",
      "source": [
        "abs((fraudulent_df.isna().sum() / fraudulent_df.shape[0] *100)-(real_df.isna().sum() / real_df.shape[0] *100))"
      ],
      "metadata": {
        "colab": {
          "base_uri": "https://localhost:8080/"
        },
        "id": "uCm6PYVa1zJI",
        "outputId": "bfeab42b-0635-4e75-db0e-0b6bfb8104fc"
      },
      "execution_count": null,
      "outputs": [
        {
          "output_type": "execute_result",
          "data": {
            "text/plain": [
              "job_id                  0.000000\n",
              "title                   0.000000\n",
              "location                0.272049\n",
              "department              3.430282\n",
              "salary_range           10.204556\n",
              "company_profile        51.790198\n",
              "description             0.115473\n",
              "requirements            2.848150\n",
              "benefits                1.794881\n",
              "telecommuting           0.000000\n",
              "has_company_logo        0.000000\n",
              "has_questions           0.000000\n",
              "employment_type         8.844733\n",
              "required_experience    11.351201\n",
              "required_education      7.092040\n",
              "industry                4.554068\n",
              "function                2.955927\n",
              "fraudulent              0.000000\n",
              "dtype: float64"
            ]
          },
          "metadata": {},
          "execution_count": 30
        }
      ]
    },
    {
      "cell_type": "code",
      "source": [
        "# salary range\n",
        "plt.figure(figsize=(6,6))\n",
        "plt.bar(['Real', 'Fraudulent'], [84.453979, 74.249423])\n",
        "plt.ylabel('% Missing Data', fontsize = 16)\n",
        "plt.xlabel('Job Status', fontsize = 16)\n",
        "plt.ylim(0,100)\n",
        "plt.title('Salary Range', fontsize=18)"
      ],
      "metadata": {
        "colab": {
          "base_uri": "https://localhost:8080/",
          "height": 593
        },
        "id": "J2zxO8Dc2zRQ",
        "outputId": "6435e835-247d-48c6-953d-12f707bbb2b2"
      },
      "execution_count": null,
      "outputs": [
        {
          "output_type": "execute_result",
          "data": {
            "text/plain": [
              "Text(0.5, 1.0, 'Salary Range')"
            ]
          },
          "metadata": {},
          "execution_count": 40
        },
        {
          "output_type": "display_data",
          "data": {
            "text/plain": [
              "<Figure size 600x600 with 1 Axes>"
            ],
            "image/png": "[encoded data removed]"
          },
          "metadata": {}
        }
      ]
    },
    {
      "cell_type": "code",
      "source": [
        "# company profile\n",
        "plt.figure(figsize=(6,6))\n",
        "plt.bar(['Real', 'Fraudulent'], [15.992712, 67.78291])\n",
        "plt.ylabel('% Missing Data', fontsize = 16)\n",
        "plt.xlabel('Job Status', fontsize = 16)\n",
        "plt.ylim(0,100)\n",
        "plt.title('Company Profile', fontsize=18)"
      ],
      "metadata": {
        "colab": {
          "base_uri": "https://localhost:8080/",
          "height": 593
        },
        "id": "XWpFo3Zt1s90",
        "outputId": "8342b022-8afc-467e-ca42-387d89619296"
      },
      "execution_count": null,
      "outputs": [
        {
          "output_type": "execute_result",
          "data": {
            "text/plain": [
              "Text(0.5, 1.0, 'Company Profile')"
            ]
          },
          "metadata": {},
          "execution_count": 39
        },
        {
          "output_type": "display_data",
          "data": {
            "text/plain": [
              "<Figure size 600x600 with 1 Axes>"
            ],
            "image/png": "[encoded data removed]"
          },
          "metadata": {}
        }
      ]
    },
    {
      "cell_type": "markdown",
      "source": [
        "### Looking for patterns around 'fraudulent' jobs"
      ],
      "metadata": {
        "id": "m4SnhMwPNvCp"
      }
    },
    {
      "cell_type": "markdown",
      "source": [
        "Looking at how many jobs in this data set are fraudulent"
      ],
      "metadata": {
        "id": "BcGvoMGmOFCd"
      }
    },
    {
      "cell_type": "code",
      "source": [
        "df['fraudulent'].value_counts()"
      ],
      "metadata": {
        "id": "RqJ9ZayGNyry",
        "colab": {
          "base_uri": "https://localhost:8080/"
        },
        "outputId": "e310c2d1-c1a0-40f4-d9e6-7122ba6b680d"
      },
      "execution_count": null,
      "outputs": [
        {
          "output_type": "execute_result",
          "data": {
            "text/plain": [
              "0    17014\n",
              "1      866\n",
              "Name: fraudulent, dtype: int64"
            ]
          },
          "metadata": {},
          "execution_count": 8
        }
      ]
    },
    {
      "cell_type": "code",
      "source": [
        "866/17880 * 100"
      ],
      "metadata": {
        "id": "MG5k7MYSOEOF",
        "colab": {
          "base_uri": "https://localhost:8080/"
        },
        "outputId": "f61a82fc-77e2-47ac-ff7d-ffa00e549495"
      },
      "execution_count": null,
      "outputs": [
        {
          "output_type": "execute_result",
          "data": {
            "text/plain": [
              "4.8434004474272925"
            ]
          },
          "metadata": {},
          "execution_count": 9
        }
      ]
    },
    {
      "cell_type": "markdown",
      "source": [
        "Grouping by Job Function to see if there is a relationship between particular job functions and whether or not a job posting is fraudulent"
      ],
      "metadata": {
        "id": "q54KtF3POIFi"
      }
    },
    {
      "cell_type": "code",
      "source": [
        "df['function'].nunique()"
      ],
      "metadata": {
        "colab": {
          "base_uri": "https://localhost:8080/"
        },
        "id": "h0fWDgbdLG-Z",
        "outputId": "69af2394-d3c0-44cc-cd56-e882a9ac1ff9"
      },
      "execution_count": null,
      "outputs": [
        {
          "output_type": "execute_result",
          "data": {
            "text/plain": [
              "37"
            ]
          },
          "metadata": {},
          "execution_count": 6
        }
      ]
    },
    {
      "cell_type": "code",
      "source": [
        "df['function'].value_counts()"
      ],
      "metadata": {
        "id": "M4Pxg5HuNziE",
        "colab": {
          "base_uri": "https://localhost:8080/"
        },
        "outputId": "948a261a-0503-4728-8aa6-200dc013536e"
      },
      "execution_count": null,
      "outputs": [
        {
          "output_type": "execute_result",
          "data": {
            "text/plain": [
              "Information Technology    1749\n",
              "Sales                     1468\n",
              "Engineering               1348\n",
              "Customer Service          1229\n",
              "Marketing                  830\n",
              "Administrative             630\n",
              "Design                     340\n",
              "Health Care Provider       338\n",
              "Other                      325\n",
              "Education                  325\n",
              "Management                 317\n",
              "Business Development       228\n",
              "Accounting/Auditing        212\n",
              "Human Resources            205\n",
              "Project Management         183\n",
              "Finance                    172\n",
              "Consulting                 144\n",
              "Writing/Editing            132\n",
              "Art/Creative               132\n",
              "Production                 116\n",
              "Product Management         114\n",
              "Quality Assurance          111\n",
              "Advertising                 90\n",
              "Business Analyst            84\n",
              "Data Analyst                82\n",
              "Public Relations            76\n",
              "Manufacturing               74\n",
              "General Business            68\n",
              "Research                    50\n",
              "Legal                       47\n",
              "Strategy/Planning           46\n",
              "Training                    38\n",
              "Supply Chain                36\n",
              "Financial Analyst           33\n",
              "Distribution                24\n",
              "Purchasing                  15\n",
              "Science                     14\n",
              "Name: function, dtype: int64"
            ]
          },
          "metadata": {},
          "execution_count": 10
        }
      ]
    },
    {
      "cell_type": "code",
      "source": [
        "# subset job functions that only appear over 100 times\n",
        "function_df = df[df.groupby('function')['function'].transform('size')>200]"
      ],
      "metadata": {
        "id": "RscrHhVxN4Fh"
      },
      "execution_count": null,
      "outputs": []
    },
    {
      "cell_type": "code",
      "source": [
        "# get the mean fradulency in relation to job function (i.e., proportion of fraudulent job postings per job function)\n",
        "func_df = function_df.groupby([function_df['function']]).agg({'fraudulent':['mean']}).reset_index()\n",
        "func_df = func_df.sort_values(by=[('fraudulent', 'mean')], ascending=False)"
      ],
      "metadata": {
        "id": "NX_efW87N6nF"
      },
      "execution_count": null,
      "outputs": []
    },
    {
      "cell_type": "code",
      "source": [
        "plt.figure(figsize=(18,8))\n",
        "plt.margins(x=0.01)\n",
        "plt.bar(func_df['function'], func_df[('fraudulent', 'mean')])\n",
        "plt.xticks([0,1,2,3,4,5,6,7,8,9,10,11,12,13],\n",
        "           ['Administrative', 'Accounting/ \\nAuditing', 'Other','Engineering', 'Business\\nDevelopment',\n",
        "            'Customer\\nService', 'Human\\nResources', 'Sales','Mangement', 'IT', 'Marketing',\n",
        "            'Design','Education', 'Health Care\\nProvider'])\n",
        "\n",
        "plt.ylabel('Mean Proportion Fraudulent',fontsize=18)\n",
        "plt.xlabel('Job Function', fontsize=18)"
      ],
      "metadata": {
        "id": "lQU5vOofN_st",
        "colab": {
          "base_uri": "https://localhost:8080/",
          "height": 556
        },
        "outputId": "565e38ff-cb06-4506-b37e-95fd9e5ec03c"
      },
      "execution_count": null,
      "outputs": [
        {
          "output_type": "execute_result",
          "data": {
            "text/plain": [
              "Text(0.5, 0, 'Job Function')"
            ]
          },
          "metadata": {},
          "execution_count": 13
        },
        {
          "output_type": "display_data",
          "data": {
            "text/plain": [
              "<Figure size 1800x800 with 1 Axes>"
            ],
            "image/png": "[encoded data removed]"
          },
          "metadata": {}
        }
      ]
    },
    {
      "cell_type": "code",
      "source": [
        "# checking work to double check that we are looking at the mean for each job function (i.e., sum shouldn't equal 1)\n",
        "func_df[('fraudulent', 'mean')].sum()"
      ],
      "metadata": {
        "id": "PQWqZ9i4OrSJ",
        "colab": {
          "base_uri": "https://localhost:8080/"
        },
        "outputId": "96a763a4-48a6-4022-f390-0fa63a6868a7"
      },
      "execution_count": null,
      "outputs": [
        {
          "output_type": "execute_result",
          "data": {
            "text/plain": [
              "0.7554666172872054"
            ]
          },
          "metadata": {},
          "execution_count": 14
        }
      ]
    },
    {
      "cell_type": "markdown",
      "source": [
        "Grouping by Industry to see if there is a relationship between particular job industries and whether or not a job posting is fraudulent\n",
        "*   Done similarly to Job Functions\n",
        "\n"
      ],
      "metadata": {
        "id": "n5C3K88WO1I7"
      }
    },
    {
      "cell_type": "code",
      "source": [
        "df['industry'].nunique()"
      ],
      "metadata": {
        "colab": {
          "base_uri": "https://localhost:8080/"
        },
        "id": "c8BE5OlOLL58",
        "outputId": "c39aa4ae-ac05-43a2-b9b6-5ac169dbbce9"
      },
      "execution_count": null,
      "outputs": [
        {
          "output_type": "execute_result",
          "data": {
            "text/plain": [
              "131"
            ]
          },
          "metadata": {},
          "execution_count": 7
        }
      ]
    },
    {
      "cell_type": "code",
      "source": [
        "df['industry'].value_counts()"
      ],
      "metadata": {
        "id": "RFHQXw1aO7hW",
        "colab": {
          "base_uri": "https://localhost:8080/"
        },
        "outputId": "686f9e1b-fb2e-40cb-da86-e6df80cf4ecd"
      },
      "execution_count": null,
      "outputs": [
        {
          "output_type": "execute_result",
          "data": {
            "text/plain": [
              "Information Technology and Services    1734\n",
              "Computer Software                      1376\n",
              "Internet                               1062\n",
              "Marketing and Advertising               828\n",
              "Education Management                    822\n",
              "                                       ... \n",
              "Shipbuilding                              1\n",
              "Sporting Goods                            1\n",
              "Museums and Institutions                  1\n",
              "Wine and Spirits                          1\n",
              "Ranching                                  1\n",
              "Name: industry, Length: 131, dtype: int64"
            ]
          },
          "metadata": {},
          "execution_count": 15
        }
      ]
    },
    {
      "cell_type": "code",
      "source": [
        "# subset industries that only appear over 100 times\n",
        "industry_df = df[df.groupby('industry')['industry'].transform('size')>200]"
      ],
      "metadata": {
        "id": "lmDTMI7wO-ZQ"
      },
      "execution_count": null,
      "outputs": []
    },
    {
      "cell_type": "code",
      "source": [
        "industry_df['industry'].value_counts()"
      ],
      "metadata": {
        "colab": {
          "base_uri": "https://localhost:8080/"
        },
        "id": "sEhA_zMPBDXb",
        "outputId": "e9d06978-809a-452c-da55-614845a1707e"
      },
      "execution_count": null,
      "outputs": [
        {
          "output_type": "execute_result",
          "data": {
            "text/plain": [
              "Information Technology and Services    1734\n",
              "Computer Software                      1376\n",
              "Internet                               1062\n",
              "Marketing and Advertising               828\n",
              "Education Management                    822\n",
              "Financial Services                      779\n",
              "Hospital & Health Care                  497\n",
              "Consumer Services                       358\n",
              "Telecommunications                      342\n",
              "Oil & Energy                            287\n",
              "Retail                                  223\n",
              "Name: industry, dtype: int64"
            ]
          },
          "metadata": {},
          "execution_count": 17
        }
      ]
    },
    {
      "cell_type": "code",
      "source": [
        "ind_df = industry_df.groupby([industry_df['industry']]).agg({'fraudulent':['mean']}).reset_index()\n",
        "ind_df = ind_df.sort_values(by=[('fraudulent', 'mean')], ascending=False)"
      ],
      "metadata": {
        "id": "-aoezEASPFw1"
      },
      "execution_count": null,
      "outputs": []
    },
    {
      "cell_type": "code",
      "source": [
        "plt.figure(figsize=(14,6))\n",
        "plt.bar(ind_df['industry'], ind_df[('fraudulent', 'mean')])\n",
        "plt.margins(x=0.01)\n",
        "plt.xticks([0,1,2,3,4,5,6,7,8,9,10],\n",
        "           ['Oil &\\nEnergy','Hospital\\n& Health\\nCare',\n",
        "            'Telecomm', 'Consumer\\nServices','Marketing &\\nAdvertising',\n",
        "            'Financial\\nServices','Retail',\n",
        "            'IT &\\nServices','Computer\\nSoftware', 'Education\\nManagement',\n",
        "            'Internet'])\n",
        "plt.ylabel('Mean Proportion Fraudulent', fontsize=16)\n",
        "plt.xlabel('Industry', fontsize=16)"
      ],
      "metadata": {
        "id": "sRW625vfPQgB",
        "colab": {
          "base_uri": "https://localhost:8080/",
          "height": 566
        },
        "outputId": "b7887e14-fab3-4b7b-8aa0-691a0d909df8"
      },
      "execution_count": null,
      "outputs": [
        {
          "output_type": "execute_result",
          "data": {
            "text/plain": [
              "Text(0.5, 0, 'Industry')"
            ]
          },
          "metadata": {},
          "execution_count": 19
        },
        {
          "output_type": "display_data",
          "data": {
            "text/plain": [
              "<Figure size 1400x600 with 1 Axes>"
            ],
            "image/png": "[encoded data removed]"
          },
          "metadata": {}
        }
      ]
    },
    {
      "cell_type": "code",
      "source": [
        "ind_df[('fraudulent', 'mean')].sum()"
      ],
      "metadata": {
        "id": "zA0e_loDPSMr",
        "colab": {
          "base_uri": "https://localhost:8080/"
        },
        "outputId": "757880e4-8baf-4fac-b327-664eee665ed8"
      },
      "execution_count": null,
      "outputs": [
        {
          "output_type": "execute_result",
          "data": {
            "text/plain": [
              "0.7692560418326805"
            ]
          },
          "metadata": {},
          "execution_count": 20
        }
      ]
    },
    {
      "cell_type": "markdown",
      "source": [
        "Grouping by Required Education Level to see if there is a relationship between particular required education levels and whether or not a job posting is fraudulent\n",
        "*   Done similarly to Job Functions and Industry\n",
        "\n"
      ],
      "metadata": {
        "id": "DWIVNahwPVyA"
      }
    },
    {
      "cell_type": "code",
      "source": [
        "df['required_education'].nunique()"
      ],
      "metadata": {
        "id": "8XxjpZZGLSne",
        "outputId": "36ad58ba-ff4f-44d5-e14c-1a925841ace6",
        "colab": {
          "base_uri": "https://localhost:8080/"
        }
      },
      "execution_count": null,
      "outputs": [
        {
          "output_type": "execute_result",
          "data": {
            "text/plain": [
              "13"
            ]
          },
          "metadata": {},
          "execution_count": 8
        }
      ]
    },
    {
      "cell_type": "code",
      "source": [
        "df['required_education'].value_counts()"
      ],
      "metadata": {
        "id": "d0lxE4yRPdMu",
        "colab": {
          "base_uri": "https://localhost:8080/"
        },
        "outputId": "3378d03d-9b99-418a-f77c-e1766551651d"
      },
      "execution_count": null,
      "outputs": [
        {
          "output_type": "execute_result",
          "data": {
            "text/plain": [
              "Bachelor's Degree                    5145\n",
              "High School or equivalent            2080\n",
              "Unspecified                          1397\n",
              "Master's Degree                       416\n",
              "Associate Degree                      274\n",
              "Certification                         170\n",
              "Some College Coursework Completed     102\n",
              "Professional                           74\n",
              "Vocational                             49\n",
              "Some High School Coursework            27\n",
              "Doctorate                              26\n",
              "Vocational - HS Diploma                 9\n",
              "Vocational - Degree                     6\n",
              "Name: required_education, dtype: int64"
            ]
          },
          "metadata": {},
          "execution_count": 21
        }
      ]
    },
    {
      "cell_type": "code",
      "source": [
        "edu_df = df.groupby([df['required_education']]).agg({'fraudulent':['mean']}).reset_index()\n",
        "edu_df = edu_df.sort_values(by=[('fraudulent', 'mean')], ascending=False)"
      ],
      "metadata": {
        "id": "iA7AY0TnPfQy"
      },
      "execution_count": null,
      "outputs": []
    },
    {
      "cell_type": "code",
      "source": [
        "plt.figure(figsize=(16,8))\n",
        "plt.margins(x=0.01)\n",
        "plt.bar(edu_df['required_education'], edu_df[('fraudulent', 'mean')])\n",
        "plt.xticks([0,1,2,3,4,5,6,7,8,9,10,11,12], ['Some \\n High School', 'Certification','High \\nSchool or \\nequivalent',\n",
        "                                            'Master\\'s \\nDegree', 'Professional', 'Unspecified', 'Doctorate',\n",
        "                                            'Some \\nCollege', 'Associate \\nDegree', 'Bachelor\\'s \\nDegree',\n",
        "                                            'Vocational', 'Vocational \\n Degree', 'Vocational \\n HS Diploma'])\n",
        "plt.ylabel('Mean Proportion Fraudulent', fontsize=16)\n",
        "plt.xlabel('Education Level', fontsize=16)"
      ],
      "metadata": {
        "id": "z5x5q-5aPho9",
        "colab": {
          "base_uri": "https://localhost:8080/",
          "height": 636
        },
        "outputId": "c103874d-5945-4e5e-c3fa-c27fdde851b8"
      },
      "execution_count": null,
      "outputs": [
        {
          "output_type": "execute_result",
          "data": {
            "text/plain": [
              "Text(0.5, 0, 'Education Level')"
            ]
          },
          "metadata": {},
          "execution_count": 23
        },
        {
          "output_type": "display_data",
          "data": {
            "text/plain": [
              "<Figure size 1600x800 with 1 Axes>"
            ],
            "image/png": "[encoded data removed]"
          },
          "metadata": {}
        }
      ]
    },
    {
      "cell_type": "code",
      "source": [
        "edu_df[('fraudulent', 'mean')].sum()"
      ],
      "metadata": {
        "id": "RPpaSjLvPjRK",
        "colab": {
          "base_uri": "https://localhost:8080/"
        },
        "outputId": "4e2ed6dc-70b5-49f8-d47b-27bdb31ccb4d"
      },
      "execution_count": null,
      "outputs": [
        {
          "output_type": "execute_result",
          "data": {
            "text/plain": [
              "1.215681956451407"
            ]
          },
          "metadata": {},
          "execution_count": 24
        }
      ]
    }
  ]
}